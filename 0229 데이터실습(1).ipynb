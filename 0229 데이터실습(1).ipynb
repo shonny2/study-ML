{
 "cells": [
  {
   "cell_type": "markdown",
   "metadata": {},
   "source": [
    "# 데이터실습(타이타닉 데이터)"
   ]
  },
  {
   "cell_type": "markdown",
   "metadata": {},
   "source": [
    "## 데이터 로드 및 분리\n",
    "\n",
    "- train / test 데이터 분리"
   ]
  },
  {
   "cell_type": "code",
   "execution_count": 3,
   "metadata": {},
   "outputs": [],
   "source": [
    "import pandas as pd\n",
    "import numpy as np\n",
    "import matplotlib.pyplot as plt\n",
    "import seaborn as sns\n",
    "import sklearn\n",
    "\n",
    "train_df = pd.read_csv('train.csv', encoding = 'utf-8')"
   ]
  },
  {
   "cell_type": "markdown",
   "metadata": {},
   "source": [
    "## EDA\n",
    "\n",
    "- 분포 확인\n",
    "- 이상치 확인"
   ]
  },
  {
   "cell_type": "markdown",
   "metadata": {},
   "source": [
    "## 데이터 전처리"
   ]
  },
  {
   "cell_type": "markdown",
   "metadata": {},
   "source": [
    "#### 결측치 처리\n",
    "\n",
    "- 수치형 : Age  > 평균나이를 계산해서 fillna\n",
    "- 범주형 : Embarked  >  가장 많은 데이터를 찾아서 fillna\n",
    "- 삭제 :  Cabin, Name  > dropna (axis=1)\n",
    "\n",
    "\n"
   ]
  },
  {
   "cell_type": "markdown",
   "metadata": {},
   "source": [
    "####  전처리\n",
    "\n",
    "- 수치형 : \n",
    "  - Age  >  StandardScaling\n",
    "  - Fare & Family >  MinMaxScaling\n",
    "\n",
    "- 범주형 : \n",
    "  - Pclass, Sex :  LabelEncdoing\n",
    "  - Embarked :  OneHotEncoding"
   ]
  },
  {
   "cell_type": "markdown",
   "metadata": {},
   "source": [
    "## 모델 수립\n",
    "\n",
    " - 모델 생성 (LogisticRegression)  :  다양한 범주들이 고려되는 사항이니까\n",
    " - fit 학습시키고\n",
    " - predict  예측모델 까지 만들어서 y_pred\n",
    " "
   ]
  },
  {
   "cell_type": "markdown",
   "metadata": {},
   "source": [
    "## 평가\n",
    "\n",
    "- accuracy scor3\n",
    "- f1 score"
   ]
  }
 ],
 "metadata": {
  "kernelspec": {
   "display_name": "Python 3",
   "language": "python",
   "name": "python3"
  },
  "language_info": {
   "codemirror_mode": {
    "name": "ipython",
    "version": 3
   },
   "file_extension": ".py",
   "mimetype": "text/x-python",
   "name": "python",
   "nbconvert_exporter": "python",
   "pygments_lexer": "ipython3",
   "version": "3.12.2"
  }
 },
 "nbformat": 4,
 "nbformat_minor": 2
}
